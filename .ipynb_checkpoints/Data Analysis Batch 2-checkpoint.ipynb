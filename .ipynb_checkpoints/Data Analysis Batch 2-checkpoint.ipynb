{
 "cells": [
  {
   "cell_type": "markdown",
   "metadata": {},
   "source": [
    "# Data Analysis Batch 2"
   ]
  },
  {
   "cell_type": "markdown",
   "metadata": {},
   "source": [
    "## Data Analysis dengan Kasus Sederhana"
   ]
  },
  {
   "cell_type": "markdown",
   "metadata": {},
   "source": [
    "#### \"Practice doesn't make Perfect but Perfect Practice makes Perfect\""
   ]
  },
  {
   "cell_type": "markdown",
   "metadata": {},
   "source": [
    "- Link github: https://github.com/setiawanboedy\n",
    "- Link LinkdIn: https://www.linkedin.com/in/budi-setiawan-58a733111/"
   ]
  },
  {
   "cell_type": "code",
   "execution_count": null,
   "metadata": {},
   "outputs": [],
   "source": [
    "#import numpy as np\n",
    "#import pandas as pd\n",
    "#import matplotlib.pyplot as plt\n"
   ]
  },
  {
   "cell_type": "code",
   "execution_count": null,
   "metadata": {},
   "outputs": [],
   "source": [
    "#data_profile = pd.read_csv(\"data_profil.csv\")\n",
    "#catatan_lokasi = pd.read_csv(\"catatan_lokasi.csv\")"
   ]
  },
  {
   "cell_type": "code",
   "execution_count": null,
   "metadata": {},
   "outputs": [],
   "source": [
    "#data_profile"
   ]
  },
  {
   "cell_type": "code",
   "execution_count": null,
   "metadata": {},
   "outputs": [],
   "source": [
    "#catatan_lokasi"
   ]
  },
  {
   "cell_type": "code",
   "execution_count": null,
   "metadata": {},
   "outputs": [],
   "source": [
    "# bikin data gabungan\n",
    "#data = data_profile.merge(catatan_lokasi, on='id',how='left')\n"
   ]
  },
  {
   "cell_type": "markdown",
   "metadata": {},
   "source": [
    "### 2. Berapakah umur termuda dari karyawan yang tergabung dalam divisi Data Science?"
   ]
  },
  {
   "cell_type": "code",
   "execution_count": null,
   "metadata": {},
   "outputs": [],
   "source": [
    "#data_profile.groupby(\"divisi\").min()"
   ]
  },
  {
   "cell_type": "markdown",
   "metadata": {},
   "source": [
    "### 3. Berapa jumlah karyawan yang kemungkinan besar menyempatkan untuk berwisata ke KeratonYogyakarta, Pantai Parangtritis, atau wisata Kaliurang selama masa mudiknya? (Asumsi karyawanyang mudik ke DIY saja yang kemungkinan besar berwisata ke tempat-tempat tersebut."
   ]
  },
  {
   "cell_type": "code",
   "execution_count": null,
   "metadata": {},
   "outputs": [],
   "source": [
    "# cari semua daerah yang dikunjungi\n",
    "#catatan_lokasi.lokasi_dominan.unique()\n",
    "# daerah jogja hanya Kota Yogyakarta dan Kabupaten Bantul"
   ]
  },
  {
   "cell_type": "code",
   "execution_count": null,
   "metadata": {},
   "outputs": [],
   "source": [
    "# cari id yang ke DIY\n",
    "#diy = ['Kota Yogyakarta','Kabupaten Bantul']\n",
    "#ke_diy = catatan_lokasi.loc[catatan_lokasi.lokasi_dominan.isin(diy)]\n"
   ]
  },
  {
   "cell_type": "code",
   "execution_count": null,
   "metadata": {},
   "outputs": [],
   "source": [
    "# jumlah id yang ke DIY\n",
    "#ke_diy.id.unique().size"
   ]
  },
  {
   "cell_type": "markdown",
   "metadata": {},
   "source": [
    "### 4 Karyawan dengan id berapakah yang memiliki kesempatan besar untuk menikmati wisata PantaiKarang Bolong Kebumen?"
   ]
  },
  {
   "cell_type": "code",
   "execution_count": null,
   "metadata": {},
   "outputs": [],
   "source": [
    "#id_ke_kebumen = catatan_lokasi.loc[catatan_lokasi.lokasi_dominan == \"Kabupaten Kebumen\"].id.unique()\n",
    "#id_ke_kebumen"
   ]
  },
  {
   "cell_type": "markdown",
   "metadata": {},
   "source": [
    "### 5 Berapa jumlah karyawan yang melakukan mudik pada tanggal 30 Mei 2019?"
   ]
  },
  {
   "cell_type": "code",
   "execution_count": null,
   "metadata": {},
   "outputs": [],
   "source": [
    "# cari id yang diluar jabodetabek\n",
    "#jabodetabek = ['Jakarta Pusat', 'Kabupaten Bogor', 'Kota Tangerang', 'Kota Bogor',\n",
    "#       'Kota Depok', 'Jakarta Timur', 'Kota Bekasi', 'Jakarta Selatan',\n",
    "#       'Jakarta Utara', 'Jakarta Barat', 'Kabupaten Tangerang',\n",
    "#       'Kabupaten Bekasi', 'Kota Tangerang Selatan']\n",
    "#jalan2 = catatan_lokasi.loc[catatan_lokasi.lokasi_dominan.isin(jabodetabek)]\n"
   ]
  },
  {
   "cell_type": "code",
   "execution_count": null,
   "metadata": {},
   "outputs": [],
   "source": [
    "# cari spesifik tanggal 30 mei 2019\n",
    "#jalan2.loc[jalan2.tanggal == \"30/05/19\"].head()"
   ]
  },
  {
   "cell_type": "code",
   "execution_count": null,
   "metadata": {},
   "outputs": [],
   "source": [
    "# banyaknya id\n",
    "#jalan2.loc[jalan2.tanggal == \"30/05/19\"].id.unique().size"
   ]
  },
  {
   "cell_type": "markdown",
   "metadata": {},
   "source": [
    "### 6 Divisi apa yang karyawannya paling banyak melakukan mudik?"
   ]
  },
  {
   "cell_type": "code",
   "execution_count": null,
   "metadata": {},
   "outputs": [],
   "source": [
    "# perbarui data jalan2 dengan data lengkap\n",
    "#jalan2_lengkap = data.loc[~data.lokasi_dominan.isin(jabodetabek)]\n"
   ]
  },
  {
   "cell_type": "code",
   "execution_count": null,
   "metadata": {},
   "outputs": [],
   "source": [
    "#jalan2_lengkap.groupby(\"divisi\").id.unique().agg([len])"
   ]
  },
  {
   "cell_type": "markdown",
   "metadata": {},
   "source": [
    "### 7 Berapakah median umur dari keseluruhan karyawan Tokolapak?"
   ]
  },
  {
   "cell_type": "code",
   "execution_count": null,
   "metadata": {},
   "outputs": [],
   "source": [
    "#data_profile.umur.median()"
   ]
  },
  {
   "cell_type": "markdown",
   "metadata": {},
   "source": [
    "### 8 Tanggal berapakah menjadi hari favorit karyawan Tokolapak pulang ke Jabodetabek?"
   ]
  },
  {
   "cell_type": "code",
   "execution_count": null,
   "metadata": {},
   "outputs": [],
   "source": [
    "# cari data saat semua di jabodetabek\n",
    "#balik = data.loc[data.lokasi_dominan.isin(jabodetabek)]\n"
   ]
  },
  {
   "cell_type": "code",
   "execution_count": null,
   "metadata": {},
   "outputs": [],
   "source": [
    "#balik.groupby(\"tanggal\").id.unique().agg([len])"
   ]
  },
  {
   "cell_type": "code",
   "execution_count": null,
   "metadata": {},
   "outputs": [],
   "source": [
    "#dari data keliatan tanggal 9 Juni, 66-17= 49 orang pulang ke jabodetabek"
   ]
  },
  {
   "cell_type": "markdown",
   "metadata": {},
   "source": [
    "### 9 Berapa jumlah karyawan yang mudik dan tergabung dalam Divisi Data Science?"
   ]
  },
  {
   "cell_type": "code",
   "execution_count": null,
   "metadata": {},
   "outputs": [],
   "source": [
    "#jalan2_lengkap.loc[jalan2_lengkap.divisi == \"Data Science\"].id.unique().size"
   ]
  },
  {
   "cell_type": "markdown",
   "metadata": {},
   "source": [
    "### 10 Berapakah umur karyawan yang paling senior dari dari karyawan yang tergabung dalam divisi DataEngineer?"
   ]
  },
  {
   "cell_type": "code",
   "execution_count": null,
   "metadata": {},
   "outputs": [],
   "source": [
    "#data_profile.groupby(\"divisi\").umur.agg([max])\n",
    "# dari data dapat dilihat umur data engineer paling tua 35 tahun"
   ]
  },
  {
   "cell_type": "markdown",
   "metadata": {},
   "source": [
    "### 11 Berapa jumlah karyawan TokoLapak?"
   ]
  },
  {
   "cell_type": "code",
   "execution_count": null,
   "metadata": {},
   "outputs": [],
   "source": [
    "#data_profile.id.unique().size"
   ]
  },
  {
   "cell_type": "markdown",
   "metadata": {},
   "source": [
    "### 12 Karyawan dengan id berapakah yang mudiknya paling lama?"
   ]
  },
  {
   "cell_type": "code",
   "execution_count": null,
   "metadata": {},
   "outputs": [],
   "source": [
    "# bikin variabel menunjukan berapa lama tiap id ada di luar jabodetabek\n",
    "#lama_libur = jalan2_lengkap.groupby(\"id\").tanggal.agg([len])\n"
   ]
  },
  {
   "cell_type": "code",
   "execution_count": null,
   "metadata": {},
   "outputs": [],
   "source": [
    "# bikin variabel tanggal terbanyak suatu id di luar jabodetabek\n",
    "#kelamaan_libur = jalan2_lengkap.groupby(\"id\").tanggal.agg([len]).max()\n",
    "\n",
    "# kalo diperhatiin tipe data kelamaan_libur ini series"
   ]
  },
  {
   "cell_type": "code",
   "execution_count": null,
   "metadata": {},
   "outputs": [],
   "source": [
    "# panggila lagi datanya dengan filter variabel kelamaan libur\n",
    "#lama_libur.loc[lama_libur.len == 20]"
   ]
  },
  {
   "cell_type": "markdown",
   "metadata": {},
   "source": [
    "### 13 Kabupaten/Kota manakah yang menjadi tujuan mudik terbanyak?"
   ]
  },
  {
   "cell_type": "code",
   "execution_count": null,
   "metadata": {},
   "outputs": [],
   "source": [
    "# variabel berapa banyak id yang mengunjungi kota tersebut\n",
    "#daerah_banyaknya_id = jalan2_lengkap.groupby(\"lokasi_dominan\").id.unique().agg([len])\n"
   ]
  },
  {
   "cell_type": "code",
   "execution_count": null,
   "metadata": {},
   "outputs": [],
   "source": [
    "# ambil max nya\n",
    "#rame = daerah_banyaknya_id.max()\n"
   ]
  },
  {
   "cell_type": "code",
   "execution_count": null,
   "metadata": {},
   "outputs": [],
   "source": [
    "# panggil lagi datanya\n",
    "#laris = daerah_banyaknya_id.loc[daerah_banyaknya_id.len == rame[0]]\n"
   ]
  },
  {
   "cell_type": "markdown",
   "metadata": {},
   "source": [
    "### 14 Divisi apakah yang semua anggotanya mudik?"
   ]
  },
  {
   "cell_type": "code",
   "execution_count": null,
   "metadata": {},
   "outputs": [],
   "source": [
    "# jumlah per divisi\n",
    "#anggota_per_divisi = data_profile.groupby('divisi').id.unique().agg([len])\n"
   ]
  },
  {
   "cell_type": "code",
   "execution_count": null,
   "metadata": {},
   "outputs": [],
   "source": [
    "# jumlah per divisi dari data jalan2\n",
    "#anggota_liburan = jalan2_lengkap.groupby(\"divisi\").id.unique().agg([len])\n"
   ]
  },
  {
   "cell_type": "code",
   "execution_count": null,
   "metadata": {},
   "outputs": [],
   "source": [
    "# dapat dilihat dari datanya Customer Service dan Data Science yang anggotanya mudik semua\n",
    "\n",
    "#kurangin = anggota_per_divisi.subtract(anggota_liburan)\n",
    "#kurangin.loc[kurangin.len == 0]"
   ]
  },
  {
   "cell_type": "markdown",
   "metadata": {},
   "source": [
    "### 15 Kabupaten/Kota manakah yang menjadi tujuan mudik paling sedikit?"
   ]
  },
  {
   "cell_type": "code",
   "execution_count": null,
   "metadata": {},
   "outputs": [],
   "source": [
    "#sepi = daerah_banyaknya_id.min()\n"
   ]
  },
  {
   "cell_type": "code",
   "execution_count": null,
   "metadata": {},
   "outputs": [],
   "source": [
    "#sepi_cuy = daerah_banyaknya_id.loc[daerah_banyaknya_id.len == sepi[0]]\n"
   ]
  },
  {
   "cell_type": "markdown",
   "metadata": {},
   "source": [
    "### 16 Di hari apakah yang menjadi hari favorit (paling banyak) karyawan Tokolapak melakukan mudik?Asumsikan waktu yang dibutuhkan untuk mudik kurang dari 1 hari, dan apabila dia mulai berada diluar Jabodetabek pada hari tersebut, maka hari tersebutlah yang menjadi dominan lokasiseseorang mudik"
   ]
  },
  {
   "cell_type": "code",
   "execution_count": null,
   "metadata": {},
   "outputs": [],
   "source": [
    "# hari paling banyak mudik sesuai asumsi, artinya di hari tersebut unique id lebih banyak di luar jabodetabek...\n",
    "# sort sesuai tanggal, tanggal yang paling pertama unique id nya lebih banyak di luar jabodetabek = tanggal favorit mudik\n",
    "\n",
    "# bikin data tiap tanggal tiap tempat berapa dikunjungi\n",
    "# kalo bingung ini buat yang tangal 01/06/19\n",
    "# data.groupby([\"tanggal\",\"lokasi_dominan\"]).id.agg([len])"
   ]
  },
  {
   "cell_type": "code",
   "execution_count": null,
   "metadata": {},
   "outputs": [],
   "source": [
    "# karena susah ngeliatnya kayak gini\n",
    "# ubah aja datanya, yang di luar jabodetabek ma yang didalem\n",
    "# copy dulu datanya karena mau ubah2\n",
    "# data2 = balik.copy()\n",
    "# data3 = jalan2_lengkap.copy()"
   ]
  },
  {
   "cell_type": "code",
   "execution_count": null,
   "metadata": {},
   "outputs": [],
   "source": [
    "# buat semua lokasi_dominan di data balik jadi jabodetabek yg di jalan2_lengkap jadi luar\n",
    "# gabungin\n",
    "# data2.lokasi_dominan = \"jabodetabek\"\n",
    "# data3.lokasi_dominan = \"luar\"\n",
    "# data_ubah = pd.concat([data2, data3])\n",
    "# data_ubah.tail()"
   ]
  },
  {
   "cell_type": "code",
   "execution_count": null,
   "metadata": {},
   "outputs": [],
   "source": [
    "# cek datanya bener sesuai keinginan\n",
    "# print(data_ubah.lokasi_dominan.unique())\n",
    "# print(data.shape)"
   ]
  },
  {
   "cell_type": "code",
   "execution_count": null,
   "metadata": {},
   "outputs": [],
   "source": [
    "# tes = data_ubah.groupby([\"tanggal\",\"lokasi_dominan\"]).id.agg([len])\n"
   ]
  },
  {
   "cell_type": "code",
   "execution_count": null,
   "metadata": {},
   "outputs": [],
   "source": [
    "# cukup terlihat dari tabel"
   ]
  },
  {
   "cell_type": "markdown",
   "metadata": {},
   "source": [
    "### 20 Berapa persen dari total jumlah karyawan yang mudik, karyawan Tokolapak pulang ke Jabodetabekpada tanggal 9 Juni 2019?"
   ]
  },
  {
   "cell_type": "code",
   "execution_count": null,
   "metadata": {},
   "outputs": [],
   "source": [
    "# cari banyaknya id yang mudik\n",
    "# banyaknya_mudik = jalan2_lengkap.id.unique().size\n"
   ]
  },
  {
   "cell_type": "code",
   "execution_count": null,
   "metadata": {},
   "outputs": [],
   "source": [
    "# cari data 9 Juni di jabodetabek\n",
    "# data.loc[(data.tanggal == \"09/06/19\") & (data.lokasi_dominan.isin(jabodetabek))]"
   ]
  },
  {
   "cell_type": "code",
   "execution_count": null,
   "metadata": {},
   "outputs": [],
   "source": [
    "# no_20 = data.loc[(data.tanggal == \"09/06/19\") & (data.lokasi_dominan.isin(jabodetabek))].id.unique().size\n",
    "# (no_20/banyaknya_mudik)*100"
   ]
  },
  {
   "cell_type": "markdown",
   "metadata": {},
   "source": [
    "### 21 Divisi apakah yang persentase pemudiknya paling sedikit?"
   ]
  },
  {
   "cell_type": "code",
   "execution_count": null,
   "metadata": {},
   "outputs": [],
   "source": [
    "#kurangin"
   ]
  },
  {
   "cell_type": "code",
   "execution_count": null,
   "metadata": {},
   "outputs": [],
   "source": [
    "# karena data \"kurangin\" menunjukan banyaknya anggota divisi yang tidak mudik\n",
    "# maka divisi Software Engineer memiliki anggota dengan pemudik paling sedikit\n",
    "# maka persentase pemudiknyapun paling sedeikit"
   ]
  },
  {
   "cell_type": "markdown",
   "metadata": {},
   "source": [
    "### 22 Divisi apakah yang jumlah pemudiknya paling sedikit?"
   ]
  },
  {
   "cell_type": "code",
   "execution_count": null,
   "metadata": {},
   "outputs": [],
   "source": [
    "#anggota_liburan"
   ]
  },
  {
   "cell_type": "code",
   "execution_count": null,
   "metadata": {},
   "outputs": [],
   "source": [
    "#karena hanya ditanya jumlah pemudik paling sedikit\n",
    "# maka marketing memiliki jumlah pemudik paling sedikit"
   ]
  },
  {
   "cell_type": "markdown",
   "metadata": {},
   "source": [
    "### 23 Ada karyawan yang mudik ke Kabupaten Lampung Selatan,yaitu karyawan dengan id 80. Padatanggal berapakah dia sudah pulang ke Jabodetabek?"
   ]
  },
  {
   "cell_type": "code",
   "execution_count": null,
   "metadata": {},
   "outputs": [],
   "source": [
    "# cari history perjalanan id 80\n",
    "#id_80 = data.loc[data.id == 80]\n"
   ]
  },
  {
   "cell_type": "code",
   "execution_count": null,
   "metadata": {},
   "outputs": [],
   "source": [
    "# Dari data dapat dilihat id_80 sudah pulang pada tanggal 08 Juni 2019"
   ]
  },
  {
   "cell_type": "markdown",
   "metadata": {},
   "source": [
    "### 24 Berapa karyawan dapat diminta tolong untuk dititipi oleh-oleh Lapis Legit Zulaikha langsung daritokonya?"
   ]
  },
  {
   "cell_type": "code",
   "execution_count": null,
   "metadata": {},
   "outputs": [],
   "source": [
    "# cari yang pergi ke Kota Medan\n",
    "#jalan2_lengkap.loc[jalan2_lengkap.lokasi_dominan == \"Kota Medan\"]"
   ]
  },
  {
   "cell_type": "code",
   "execution_count": null,
   "metadata": {},
   "outputs": [],
   "source": [
    "# cari id yang ke kota medan\n",
    "#jalan2_lengkap.loc[jalan2_lengkap.lokasi_dominan == \"Kota Medan\"].id.unique()"
   ]
  },
  {
   "cell_type": "code",
   "execution_count": null,
   "metadata": {},
   "outputs": [],
   "source": [
    "# totalnya\n",
    "#jalan2_lengkap.loc[jalan2_lengkap.lokasi_dominan == \"Kota Medan\"].id.unique().size"
   ]
  },
  {
   "cell_type": "markdown",
   "metadata": {},
   "source": [
    "### 25. Pada tanggal berapakah seluruh karyawan Tokolapak sudah berada di Jabodetabek?"
   ]
  },
  {
   "cell_type": "code",
   "execution_count": null,
   "metadata": {},
   "outputs": [],
   "source": [
    "#balik.groupby(\"tanggal\").id.unique().agg([len])"
   ]
  },
  {
   "cell_type": "code",
   "execution_count": null,
   "metadata": {},
   "outputs": [],
   "source": []
  },
  {
   "cell_type": "code",
   "execution_count": null,
   "metadata": {},
   "outputs": [],
   "source": []
  }
 ],
 "metadata": {
  "kernelspec": {
   "display_name": "Python 3",
   "language": "python",
   "name": "python3"
  },
  "language_info": {
   "codemirror_mode": {
    "name": "ipython",
    "version": 3
   },
   "file_extension": ".py",
   "mimetype": "text/x-python",
   "name": "python",
   "nbconvert_exporter": "python",
   "pygments_lexer": "ipython3",
   "version": "3.6.9"
  }
 },
 "nbformat": 4,
 "nbformat_minor": 2
}
